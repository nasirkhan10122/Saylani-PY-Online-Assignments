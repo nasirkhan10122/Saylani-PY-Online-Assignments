{
 "cells": [
  {
   "cell_type": "code",
   "execution_count": 61,
   "metadata": {},
   "outputs": [
    {
     "name": "stdout",
     "output_type": "stream",
     "text": [
      "Input a number to compute the factiorial : 3\n",
      "6\n"
     ]
    }
   ],
   "source": [
    "#Question no:- 01\n",
    "def factorial(n):\n",
    "    if n == 0:\n",
    "        return 1\n",
    "    else:\n",
    "        return n * factorial(n-1)\n",
    "n=int(input(\"Input a number to compute the factiorial : \"))\n",
    "print(factorial(n))"
   ]
  },
  {
   "cell_type": "code",
   "execution_count": 12,
   "metadata": {},
   "outputs": [
    {
     "name": "stdout",
     "output_type": "stream",
     "text": [
      "Original String :  Pakistan Is a BeaUtiFul CoUnTry\n",
      "No. of Upper case characters :  8\n",
      "No. of Lower case Characters :  19\n"
     ]
    }
   ],
   "source": [
    "#Question no:- 02\n",
    "def string_test(s):\n",
    "    d={\"UPPER_CASE\":0, \"LOWER_CASE\":0}\n",
    "    for c in s:\n",
    "        if c.isupper():\n",
    "           d[\"UPPER_CASE\"]+=1\n",
    "        elif c.islower():\n",
    "           d[\"LOWER_CASE\"]+=1\n",
    "        else:\n",
    "           pass\n",
    "    print (\"Original String : \", s)\n",
    "    print (\"No. of Upper case characters : \", d[\"UPPER_CASE\"])\n",
    "    print (\"No. of Lower case Characters : \", d[\"LOWER_CASE\"])\n",
    "\n",
    "string_test('Pakistan Is a BeaUtiFul CoUnTry')"
   ]
  },
  {
   "cell_type": "code",
   "execution_count": 2,
   "metadata": {},
   "outputs": [
    {
     "name": "stdout",
     "output_type": "stream",
     "text": [
      "[2, 4, 6, 8, 10, 12, 14]\n"
     ]
    }
   ],
   "source": [
    "#Question No:- 03\n",
    "def is_even_num(l):\n",
    "    evennum = []\n",
    "    for n in l:\n",
    "        if n % 2 == 0:\n",
    "            evennum.append(n)\n",
    "    return evennum\n",
    "print(is_even_num([1, 2, 3, 4, 5, 6, 7, 8, 9, 10, 11, 12, 13, 14, 15]))"
   ]
  },
  {
   "cell_type": "code",
   "execution_count": 3,
   "metadata": {},
   "outputs": [
    {
     "name": "stdout",
     "output_type": "stream",
     "text": [
      "Console Sample 1: \n",
      "Enter Text: madam\n",
      "Text madam is Palindrome\n",
      "============================================================\n",
      "Console Sample 2: \n",
      "Enter Text: Deer\n",
      "Text Deer is not a Palindrome\n"
     ]
    }
   ],
   "source": [
    "#Question No:- 04\n",
    "print(\"Console Sample 1: \")\n",
    "x=input(\"Enter Text: \")\n",
    "j = len(x) - 1\n",
    "middle = int(len(x) / 2)\n",
    "check = True\n",
    "for i in range(0,middle):\n",
    "    if x[i].upper() != x[j].upper() or x[i].lower() != x[j].lower():\n",
    "        check = False\n",
    "        break\n",
    "    j=j-1\n",
    "if(check):\n",
    "    print('Text',x,'is Palindrome')\n",
    "else:\n",
    "    print('Text',x,'is not a Palindrome')\n",
    "print(\"============================================================\")\n",
    "print(\"Console Sample 2: \")\n",
    "x=input(\"Enter Text: \")\n",
    "j = len(x) - 1\n",
    "middle = int(len(x) / 2)\n",
    "check = True\n",
    "for i in range(0,middle):\n",
    "    if x[i].upper() != x[j].upper() or x[i].lower() != x[j].lower():\n",
    "        check = False\n",
    "        break\n",
    "    j=j-1\n",
    "if(check):\n",
    "    print('Text',x,'is Palindrome')\n",
    "else:\n",
    "    print('Text',x,'is not a Palindrome')"
   ]
  },
  {
   "cell_type": "code",
   "execution_count": 10,
   "metadata": {},
   "outputs": [
    {
     "name": "stdout",
     "output_type": "stream",
     "text": [
      "True\n",
      "==============================================\n",
      "Sample Output 2\n",
      "==============================================\n",
      "False\n"
     ]
    }
   ],
   "source": [
    "#Question No:-05\n",
    "def test_prime_number(n):\n",
    "    if (n==1):\n",
    "        return False\n",
    "    elif (n==2):\n",
    "        return True;\n",
    "    else:\n",
    "        for x in range(2,n):\n",
    "            if(n % x==0):\n",
    "                return False\n",
    "        return True             \n",
    "print(test_prime_number(2))\n",
    "print(\"==============================================\")\n",
    "print(\"Sample Output 2\")\n",
    "print(\"==============================================\")\n",
    "def test_prime_number(n):\n",
    "    if (n==1):\n",
    "        return False\n",
    "    elif (n==2):\n",
    "        return True;\n",
    "    else:\n",
    "        for x in range(2,n):\n",
    "            if(n % x==0):\n",
    "                return False\n",
    "        return True             \n",
    "print(test_prime_number(6))"
   ]
  },
  {
   "cell_type": "code",
   "execution_count": 59,
   "metadata": {
    "scrolled": true
   },
   "outputs": [
    {
     "name": "stdout",
     "output_type": "stream",
     "text": [
      " You Have Selected jellies\n",
      " You Have Selected biscuits\n",
      " You Have Selected crokery\n",
      " You Have Selected jacket\n",
      " You Have Selected socks\n"
     ]
    }
   ],
   "source": [
    "#Question No:- 06\n",
    "def shopping(*items):\n",
    "    for item in items:\n",
    "        print(\" You Have Selected\" ,item)\n",
    "        \n",
    "shopping('jellies','biscuits','crokery','jacket','socks')"
   ]
  }
 ],
 "metadata": {
  "kernelspec": {
   "display_name": "Python 3",
   "language": "python",
   "name": "python3"
  },
  "language_info": {
   "codemirror_mode": {
    "name": "ipython",
    "version": 3
   },
   "file_extension": ".py",
   "mimetype": "text/x-python",
   "name": "python",
   "nbconvert_exporter": "python",
   "pygments_lexer": "ipython3",
   "version": "3.7.4"
  }
 },
 "nbformat": 4,
 "nbformat_minor": 2
}
