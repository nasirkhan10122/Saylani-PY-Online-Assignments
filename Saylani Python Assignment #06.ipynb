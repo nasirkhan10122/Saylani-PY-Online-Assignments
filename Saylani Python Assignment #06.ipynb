{
 "cells": [
  {
   "cell_type": "code",
   "execution_count": 7,
   "metadata": {},
   "outputs": [
    {
     "name": "stdout",
     "output_type": "stream",
     "text": [
      "Question 1:- Define Object Oriented Programming Language?\n",
      "ANSWER:-\n",
      "\"Object-oriented programming language (OOPL) is a high-level programming language based on the object-oriented programming (OOP) model. Refers to a programming methodology based on objects, instead of just functions and procedures. These objects are organized into classes, which allow individual objects to be grouped together. \n",
      "\n",
      "An object in an OOP language refers to a specific type, or instance, of a class. Each object has a structure similar to other objects in the class, but can be assigned individual characteristics. An object can also call functions, or methods, specific to that object. For example, the source code of a video game may include a class that defines the structure of characters in the game. Individual characters may be defined as objects, which allows them to have different appearances, skills, and abilities. They may also perform different tasks in the game, which are run using each object's specific methods.\n",
      "\n",
      "Object-oriented programming makes it easier for programmers to structure and organize software programs. Because individual objects can be modified without affecting other aspects of the program, it is also easier to update and change programs written in object-oriented languages. As software programs have grown larger over the years, OOP has made developing these large programs more manageable.\n",
      "\n",
      "Most modern programming languages are object-oriented or support the OOP model to an extent. Popular OOPLs include Java, C++, Python and SmallTalk.\n"
     ]
    }
   ],
   "source": [
    "print(\"Question 1:- Define Object Oriented Programming Language?\")\n",
    "print(\"ANSWER:-\")\n",
    "print(\"\"\"\"Object-oriented programming language (OOPL) is a high-level programming language based on the object-oriented programming (OOP) model. Refers to a programming methodology based on objects, instead of just functions and procedures. These objects are organized into classes, which allow individual objects to be grouped together. \n",
    "\n",
    "An object in an OOP language refers to a specific type, or instance, of a class. Each object has a structure similar to other objects in the class, but can be assigned individual characteristics. An object can also call functions, or methods, specific to that object. For example, the source code of a video game may include a class that defines the structure of characters in the game. Individual characters may be defined as objects, which allows them to have different appearances, skills, and abilities. They may also perform different tasks in the game, which are run using each object's specific methods.\n",
    "\n",
    "Object-oriented programming makes it easier for programmers to structure and organize software programs. Because individual objects can be modified without affecting other aspects of the program, it is also easier to update and change programs written in object-oriented languages. As software programs have grown larger over the years, OOP has made developing these large programs more manageable.\n",
    "\n",
    "Most modern programming languages are object-oriented or support the OOP model to an extent. Popular OOPLs include Java, C++, Python and SmallTalk.\"\"\"\"\"\n",
    ")"
   ]
  },
  {
   "cell_type": "code",
   "execution_count": 10,
   "metadata": {},
   "outputs": [
    {
     "name": "stdout",
     "output_type": "stream",
     "text": [
      "Question 2:-List down the Benefits of OOP?\n",
      "ANSWER:-\n",
      "1. Re-usability:-\n",
      "It means reusing some facilities rather than building it again and again. This is done with the use of a class. We can use it ‘n’ number of times as per our need.\n",
      "2. Data Redundancy:-\n",
      "This is a condition created at the place of data storage (you can say Databases) where the same piece of data is held in two separate places. So the data redundancy is one of the greatest advantages of OOP. If a user wants a similar functionality in multiple classes he/she can go ahead by writing common class definitions for the similar functionalities and inherit them.\n",
      "\n",
      "3. Code Maintenance:-\n",
      "This feature is more of a necessity for any programming languages, it helps users from doing re-work in many ways. It is always easy and time-saving to maintain and modify the existing codes with incorporating new changes into it.\n",
      "\n",
      "4. Security:-\n",
      "With the use of data hiding and abstraction mechanism, we are filtering out limited data to exposure which means we are maintaining security and providing necessary data to view.\n",
      "\n",
      "5. Easy Troubleshooting:-\n",
      "Lets witness some common issues or problems any developers face in their work.\n",
      "Is this the problem in the widget file?\n",
      "Is the problem is in the WhaleFlumper?\n",
      "Will I have to trudge through that ‘sewage.c’ file?\n",
      "Commenting on all these issues related to code.\n",
      "So, many a time it happens that something has gone wrong which later becomes so brainstorming for the developers to look where the error is. Relax! Working with OOP language you will know where to look for. This is the advantage of using encapsulation in OOP; all the objects are self-constrained. With this modality behavior, the IT teams get a lot of work benefits as they are now capable to work on multiple projects simultaneously with an advantage that there is no possibility of code duplicity.\n",
      "\n",
      "6. Problems Solving:-\n",
      "Decomposing a complex problem into smaller chunks or discrete components is a good practice. OOP is specialized in this behavior, as it breaks down your software code into bite-sized – one object at a time. In doing this the broken components can be reused in solutions to different other problems (both less and more complex) or either they can be replaced by the future modules which relate to the same interface with implementations details.\n",
      "\n"
     ]
    }
   ],
   "source": [
    "print(\"Question 2:-List down the Benefits of OOP?\")\n",
    "print(\"ANSWER:-\")\n",
    "print(\"\"\"1. Re-usability:-\n",
    "It means reusing some facilities rather than building it again and again. This is done with the use of a class. We can use it ‘n’ number of times as per our need.\"\"\")\n",
    "print(\"\"\"2. Data Redundancy:-\n",
    "This is a condition created at the place of data storage (you can say Databases) where the same piece of data is held in two separate places. So the data redundancy is one of the greatest advantages of OOP. If a user wants a similar functionality in multiple classes he/she can go ahead by writing common class definitions for the similar functionalities and inherit them.\n",
    "\"\"\")\n",
    "print(\"\"\"3. Code Maintenance:-\n",
    "This feature is more of a necessity for any programming languages, it helps users from doing re-work in many ways. It is always easy and time-saving to maintain and modify the existing codes with incorporating new changes into it.\n",
    "\"\"\")\n",
    "print(\"\"\"4. Security:-\n",
    "With the use of data hiding and abstraction mechanism, we are filtering out limited data to exposure which means we are maintaining security and providing necessary data to view.\n",
    "\"\"\")\n",
    "print(\"\"\"5. Easy Troubleshooting:-\n",
    "Lets witness some common issues or problems any developers face in their work.\n",
    "Is this the problem in the widget file?\n",
    "Is the problem is in the WhaleFlumper?\n",
    "Will I have to trudge through that ‘sewage.c’ file?\n",
    "Commenting on all these issues related to code.\n",
    "So, many a time it happens that something has gone wrong which later becomes so brainstorming for the developers to look where the error is. Relax! Working with OOP language you will know where to look for. This is the advantage of using encapsulation in OOP; all the objects are self-constrained. With this modality behavior, the IT teams get a lot of work benefits as they are now capable to work on multiple projects simultaneously with an advantage that there is no possibility of code duplicity.\n",
    "\"\"\")\n",
    "print(\"\"\"6. Problems Solving:-\n",
    "Decomposing a complex problem into smaller chunks or discrete components is a good practice. OOP is specialized in this behavior, as it breaks down your software code into bite-sized – one object at a time. In doing this the broken components can be reused in solutions to different other problems (both less and more complex) or either they can be replaced by the future modules which relate to the same interface with implementations details.\n",
    "\"\"\")"
   ]
  },
  {
   "cell_type": "code",
   "execution_count": 18,
   "metadata": {},
   "outputs": [
    {
     "name": "stdout",
     "output_type": "stream",
     "text": [
      "Question 3:-Differentiate between function and method?\n",
      "ANSWER:-\n",
      "A function is a piece of code that is called by name. It can be passed data to operate on (i.e. the parameters) and can \n",
      "optionally return data (the return value). All data that is passed to a function is explicitly passed.\n",
      "******************************************************\n",
      "A method is a piece of code that is called by a name that is associated with an object. In most respects it is identical to a function except for two key differences:\n",
      "\t1.\tA method is implicitly passed the object on which it was called.\n",
      "\t2.\tA method is able to operate on data that is contained within the class (remembering that an object is an \n",
      "\t\tinstance of a class - the class is the definition, the object is an instance of that data).\n",
      "\n",
      "\n"
     ]
    }
   ],
   "source": [
    "print(\"Question 3:-Differentiate between function and method?\")\n",
    "print(\"ANSWER:-\")\n",
    "print(\"A function is a piece of code that is called by name. It can be passed data to operate on (i.e. the parameters) and can \\noptionally return data (the return value). All data that is passed to a function is explicitly passed.\")\n",
    "print(\"******************************************************\")\n",
    "print(\"\"\"A method is a piece of code that is called by a name that is associated with an object. In most respects it is identical to a function except for two key differences:\n",
    "\\t1.\tA method is implicitly passed the object on which it was called.\n",
    "\\t2.\tA method is able to operate on data that is contained within the class (remembering that an object is an \\n\\t\\tinstance of a class - the class is the definition, the object is an instance of that data).\n",
    "\n",
    "\"\"\")"
   ]
  },
  {
   "cell_type": "code",
   "execution_count": 19,
   "metadata": {},
   "outputs": [
    {
     "name": "stdout",
     "output_type": "stream",
     "text": [
      "Question 4:-Define the following terms:\n",
      "1. Class   2. Object   3. Attribute     4. Behavior\n",
      "\n",
      "ANSWER:-\n",
      "CLASS  A blueprint created by a programmer for an object. This defines a set of attributes that will characterize any object that is instantiated from this class\n",
      "********************************************************\n",
      "OBJECT An instance of a class. This is the realized version of the class, where the class is manifested in the program.\n",
      "********************************************************\n",
      "ATTRIBUTES Instance attributes are owned by the specific instances of a class. This means for two different instances the instance attributes are usually different. \n",
      "\n",
      "We can also define attributes at the class level. Class attributes are attributes which are owned by the class itself. They will be shared by all the instances of the class. Therefore they have the same value for every instance. We define class attributes outside of all the methods, usually they are placed at the top, right below the class header.\n",
      "\n",
      "*********************************************************\n",
      "BEHAVIOR In software, a behavior is how a feature operates within a well-defined scenario of inputs, actions, and outcomes. Products can exhibit countless behaviors, such as:\n",
      "•\tSubmitting forms on a website\n",
      "•\tSearching for desired results\n",
      "•\tSaving a document\n",
      "•\tMaking REST API calls\n",
      "•\tRunning command-line interface commands\n",
      "\n"
     ]
    }
   ],
   "source": [
    "print(\"\"\"Question 4:-Define the following terms:\n",
    "1. Class   2. Object   3. Attribute     4. Behavior\n",
    "\"\"\")\n",
    "print(\"ANSWER:-\")\n",
    "print(\"CLASS  A blueprint created by a programmer for an object. This defines a set of attributes that will characterize any object that is instantiated from this class\")\n",
    "print(\"********************************************************\")\n",
    "print(\"OBJECT An instance of a class. This is the realized version of the class, where the class is manifested in the program.\")\n",
    "print(\"********************************************************\")\n",
    "print(\"\"\"ATTRIBUTES Instance attributes are owned by the specific instances of a class. This means for two different instances the instance attributes are usually different. \n",
    "\n",
    "We can also define attributes at the class level. Class attributes are attributes which are owned by the class itself. They will be shared by all the instances of the class. Therefore they have the same value for every instance. We define class attributes outside of all the methods, usually they are placed at the top, right below the class header.\n",
    "\"\"\")\n",
    "print(\"*********************************************************\")\n",
    "print(\"\"\"BEHAVIOR In software, a behavior is how a feature operates within a well-defined scenario of inputs, actions, and outcomes. Products can exhibit countless behaviors, such as:\n",
    "•\tSubmitting forms on a website\n",
    "•\tSearching for desired results\n",
    "•\tSaving a document\n",
    "•\tMaking REST API calls\n",
    "•\tRunning command-line interface commands\n",
    "\"\"\")"
   ]
  },
  {
   "cell_type": "code",
   "execution_count": 3,
   "metadata": {},
   "outputs": [
    {
     "name": "stdout",
     "output_type": "stream",
     "text": [
      "The Name of Car is :  A3\n",
      "BMW\n",
      "Xayz-212\n"
     ]
    }
   ],
   "source": [
    "#Write a code in python in which create a class named it Car which have 5 attributes such like (model, color and name etc.) and 3\n",
    "#methods. And create 5 object instance from that class.\n",
    "\n",
    "class Car:\n",
    "    def __init__(self,model,color,name,company,number):\n",
    "        self.model=model\n",
    "        self.color=color\n",
    "        self.name=name\n",
    "        self.company=company\n",
    "        self.number=number\n",
    "        \n",
    "    def print_name(self):\n",
    "        print(\"The Name of Car is : \",self.name)\n",
    "            \n",
    "    def print_UPdatecompany(self):\n",
    "        self.company=\"BMW\"\n",
    "        print(self.company)\n",
    "            \n",
    "    def print_number(self):\n",
    "        print(self.number)\n",
    "            \n",
    "car1=Car('2019','Black','A3','Audi','Abx-2132')\n",
    "car2=Car('2018','white','VIGO','Toyota','Xayz-212')\n",
    "car3=Car('2017','Red','land Cruiser','Toyota','cda-132')\n",
    "car4=Car('2016','Maroon','BMW M5','BWM','JF 8862')\n",
    "car5=Car('2015','Black','BMW I8','BMW','MG1 8830')\n",
    "\n",
    "\n",
    "\n",
    "car1.print_name()\n",
    "car2.print_UPdatecompany()\n",
    "car2.print_number()"
   ]
  },
  {
   "cell_type": "code",
   "execution_count": null,
   "metadata": {},
   "outputs": [],
   "source": []
  }
 ],
 "metadata": {
  "kernelspec": {
   "display_name": "Python 3",
   "language": "python",
   "name": "python3"
  },
  "language_info": {
   "codemirror_mode": {
    "name": "ipython",
    "version": 3
   },
   "file_extension": ".py",
   "mimetype": "text/x-python",
   "name": "python",
   "nbconvert_exporter": "python",
   "pygments_lexer": "ipython3",
   "version": "3.7.4"
  }
 },
 "nbformat": 4,
 "nbformat_minor": 2
}
