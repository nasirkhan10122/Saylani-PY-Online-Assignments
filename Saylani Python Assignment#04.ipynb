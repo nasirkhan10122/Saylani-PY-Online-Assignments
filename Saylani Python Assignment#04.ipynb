{
 "cells": [
  {
   "cell_type": "code",
   "execution_count": 9,
   "metadata": {},
   "outputs": [
    {
     "name": "stdout",
     "output_type": "stream",
     "text": [
      "{'first_name': 'Nasir', 'last_name': 'Mumtaz', 'age': 23, 'Place': 'Karachi', 'Qualification': \"Bachelor's\"}\n",
      "{'first_name': 'Nasir', 'last_name': 'Mumtaz', 'age': 23, 'Place': 'Karachi'}\n"
     ]
    }
   ],
   "source": [
    "#Question-1\n",
    "\n",
    "information={\"first_name\":\"Nasir\",\n",
    "            \"last_name\":\"Mumtaz\",\n",
    "            \"age\":23,\n",
    "            \"Place\":\"Karachi\"}\n",
    "information[\"Qualification\"]=\"Bachelor's\"\n",
    "print(information)\n",
    "del information[\"Qualification\"]\n",
    "print(information)"
   ]
  },
  {
   "cell_type": "code",
   "execution_count": 8,
   "metadata": {},
   "outputs": [
    {
     "name": "stdout",
     "output_type": "stream",
     "text": [
      "[{'city1': 'Karachi', 'Country': 'Pakistan', 'population': '14.9 million', 'Type': 'Metropolitan city', 'Fact': 'Karachi Stock Exchange (KSE) is one of oldest stock exchange markets in Asia.'}, {'city2': 'Islamabad', 'Country': 'Pakistan', 'population': 1014825, 'Type': 'Parliamentary democratic republic', 'Fact': 'Dead City :- The people in Islamabad work at 9 am until 6 pm, so they never do activities at night.'}, {'city3': 'Peshawar', 'Country': 'Pakistan', 'population': 1970042, 'Type': 'Metropolitan city', 'Fact': 'A common fact is that every household is permitted to carry heavy guns or firearms.'}]\n"
     ]
    }
   ],
   "source": [
    "#Question-2\n",
    "\n",
    "cities=[\n",
    "    {\"city1\":\"Karachi\",\n",
    "        \"Country\":\"Pakistan\",\n",
    "        \"population\":\"14.9 million\",\n",
    "        \"Type\":\"Metropolitan city\",\n",
    "         \"Fact\":\"Karachi Stock Exchange (KSE) is one of oldest stock exchange markets in Asia.\",\n",
    "        },\n",
    "       {\"city2\":\"Islamabad\",\n",
    "        \"Country\":\"Pakistan\",\n",
    "        \"population\":1014825,\n",
    "        \"Type\":\"Parliamentary democratic republic\",\n",
    "        \"Fact\":\"Dead City :- The people in Islamabad work at 9 am until 6 pm, so they never do activities at night.\",\n",
    "       },\n",
    "       {\"city3\":\"Peshawar\",\n",
    "        \"Country\":\"Pakistan\",\n",
    "        \"population\":1970042,\n",
    "        \"Type\":\"Metropolitan city\",\n",
    "        \"Fact\":\"A common fact is that every household is permitted to carry heavy guns or firearms.\", \n",
    "       },\n",
    "       ]\n",
    "\n",
    "print(cities)"
   ]
  },
  {
   "cell_type": "code",
   "execution_count": 7,
   "metadata": {},
   "outputs": [
    {
     "name": "stdout",
     "output_type": "stream",
     "text": [
      "Enter Your Name please: Nasir\n",
      "Enter Your age: 23\n",
      "The Entry Ticket is $15\n"
     ]
    }
   ],
   "source": [
    "#Question-3\n",
    "\n",
    "name=input(\"Enter Your Name please: \")\n",
    "age=int(input(\"Enter Your age: \"))\n",
    "if age<3:\n",
    "    print(\"No Entry Fees\")\n",
    "elif age>=3 and age<= 12:\n",
    "    print(\"The Entry Ticket is $10\")\n",
    "else:\n",
    "    print(\"The Entry Ticket is $15\")"
   ]
  },
  {
   "cell_type": "code",
   "execution_count": 5,
   "metadata": {},
   "outputs": [
    {
     "name": "stdout",
     "output_type": "stream",
     "text": [
      "Enter your Favourite book tilte: Dastan Imaan Faroshon ki\n",
      "One of my favorite books is Dastan Imaan Faroshon ki\n"
     ]
    }
   ],
   "source": [
    "#Question-4\n",
    "\n",
    "title=input(\"Enter your Favourite book tilte: \")\n",
    "favorite_book(title)\n",
    "def favorite_book(title):\n",
    "    print(\"One of my favorite books is\", title)\n"
   ]
  },
  {
   "cell_type": "code",
   "execution_count": 6,
   "metadata": {},
   "outputs": [
    {
     "name": "stdout",
     "output_type": "stream",
     "text": [
      "Guess The Correct Number: 5\n",
      "Too Low\n",
      "Guess Again: 6\n",
      "You Lose\n"
     ]
    }
   ],
   "source": [
    "#Question-5\n",
    "\n",
    "import random\n",
    "attempts=1\n",
    "random_number=random.randint(1,30)\n",
    "guess=int(input(\"Guess The Correct Number: \"))\n",
    "\n",
    "if guess == random_number:\n",
    "    print(\"Welldone\")\n",
    "elif guess > random_number:\n",
    "    print(\"Too High\")\n",
    "    guess=int(input(\"Guess Again: \"))\n",
    "    if guess == random_number:\n",
    "        print(\"Correct\")\n",
    "    else:\n",
    "        print(\"You Lose\")\n",
    "elif guess < random_number:\n",
    "    print(\"Too Low\")\n",
    "    guess=int(input(\"Guess Again: \"))\n",
    "    if guess == random_number:\n",
    "        print(\"Correct\")\n",
    "        guess=int(input(\"Guess Again: \"))\n",
    "    else:\n",
    "        print(\"You Lose\")"
   ]
  },
  {
   "cell_type": "code",
   "execution_count": null,
   "metadata": {},
   "outputs": [],
   "source": []
  }
 ],
 "metadata": {
  "kernelspec": {
   "display_name": "Python 3",
   "language": "python",
   "name": "python3"
  },
  "language_info": {
   "codemirror_mode": {
    "name": "ipython",
    "version": 3
   },
   "file_extension": ".py",
   "mimetype": "text/x-python",
   "name": "python",
   "nbconvert_exporter": "python",
   "pygments_lexer": "ipython3",
   "version": "3.7.3"
  }
 },
 "nbformat": 4,
 "nbformat_minor": 2
}
